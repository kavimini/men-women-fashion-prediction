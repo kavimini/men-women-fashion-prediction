{
 "cells": [
  {
   "cell_type": "markdown",
   "metadata": {},
   "source": [
    "Find Fashion Categories For Both Men And Women In Amazon Categories For 2023"
   ]
  },
  {
   "cell_type": "code",
   "execution_count": 7,
   "metadata": {},
   "outputs": [
    {
     "name": "stdout",
     "output_type": "stream",
     "text": [
      "Current Working Directory: c:\\Users\\Kavisha\\Documents\\Python_DS\\cookiecutter-data-science\\men-women-fashion-prediction\\notebooks\n"
     ]
    }
   ],
   "source": [
    "import os\n",
    "\n",
    "script_directory = os.path.dirname(os.path.abspath('amazon_categories.csv'))\n",
    "categories_file_path = os.path.join(script_directory, '../data/raw/amazon_categories.csv')\n",
    "\n",
    "print(\"Current Working Directory:\", os.getcwd())\n"
   ]
  },
  {
   "cell_type": "code",
   "execution_count": 11,
   "metadata": {},
   "outputs": [
    {
     "name": "stdout",
     "output_type": "stream",
     "text": [
      "   id                     category_name\n",
      "0   1          Beading & Jewelry Making\n",
      "1   2                 Fabric Decorating\n",
      "2   3       Knitting & Crochet Supplies\n",
      "3   4              Printmaking Supplies\n",
      "4   5  Scrapbooking & Stamping Supplies\n",
      "<class 'pandas.core.frame.DataFrame'>\n",
      "RangeIndex: 248 entries, 0 to 247\n",
      "Data columns (total 2 columns):\n",
      " #   Column         Non-Null Count  Dtype \n",
      "---  ------         --------------  ----- \n",
      " 0   id             248 non-null    int64 \n",
      " 1   category_name  248 non-null    object\n",
      "dtypes: int64(1), object(1)\n",
      "memory usage: 4.0+ KB\n",
      "None\n"
     ]
    }
   ],
   "source": [
    "import pandas as pd\n",
    "categories_file_path = 'C:/Users/Kavisha/Documents/Python_DS/cookiecutter-data-science/men-women-fashion-prediction/data/raw/amazon_categories.csv'\n",
    "categories_df = pd.read_csv(categories_file_path)\n",
    "\n",
    "print(categories_df.head())  \n",
    "print(categories_df.info())  "
   ]
  },
  {
   "cell_type": "code",
   "execution_count": 26,
   "metadata": {},
   "outputs": [
    {
     "name": "stdout",
     "output_type": "stream",
     "text": [
      "      id        category_name\n",
      "100  110       Men's Clothing\n",
      "101  112    Men's Accessories\n",
      "102  113        Men's Watches\n",
      "103  114          Men's Shoes\n",
      "104  116     Women's Clothing\n",
      "105  118     Women's Handbags\n",
      "106  120  Women's Accessories\n",
      "107  121      Women's Watches\n"
     ]
    }
   ],
   "source": [
    "import re\n",
    "men_keywords = ['men', 'male', 'man']\n",
    "women_keywords = ['women', 'female', 'woman']\n",
    "fashion_item_keywords = ['accessories','clothing', 'watches','jewelry' 'shoes','handbags']\n",
    "\n",
    "def check_keywords_in_column(column, keywords):\n",
    "    return column.str.contains(fr'\\b(?:{\"|\".join(map(re.escape, keywords))})\\b', case=False)\n",
    "\n",
    "men_condition = check_keywords_in_column(categories_df['category_name'], men_keywords)\n",
    "women_condition = check_keywords_in_column(categories_df['category_name'], women_keywords)\n",
    "fashion_item_condition = check_keywords_in_column(categories_df['category_name'], fashion_item_keywords)\n",
    "\n",
    "combined_condition = men_condition | women_condition & fashion_item_condition\n",
    "filtered_df = categories_df[combined_condition]\n",
    "\n",
    "print(filtered_df[['id', 'category_name']])"
   ]
  },
  {
   "cell_type": "code",
   "execution_count": null,
   "metadata": {},
   "outputs": [],
   "source": []
  },
  {
   "cell_type": "code",
   "execution_count": null,
   "metadata": {},
   "outputs": [],
   "source": []
  }
 ],
 "metadata": {
  "kernelspec": {
   "display_name": "Python 3",
   "language": "python",
   "name": "python3"
  },
  "language_info": {
   "codemirror_mode": {
    "name": "ipython",
    "version": 3
   },
   "file_extension": ".py",
   "mimetype": "text/x-python",
   "name": "python",
   "nbconvert_exporter": "python",
   "pygments_lexer": "ipython3",
   "version": "3.10.3"
  }
 },
 "nbformat": 4,
 "nbformat_minor": 2
}
